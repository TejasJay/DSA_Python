{
  "nbformat": 4,
  "nbformat_minor": 0,
  "metadata": {
    "colab": {
      "provenance": []
    },
    "kernelspec": {
      "name": "python3",
      "display_name": "Python 3"
    },
    "language_info": {
      "name": "python"
    }
  },
  "cells": [
    {
      "cell_type": "markdown",
      "source": [
        "# DSA\n",
        "\n",
        "## Recursion"
      ],
      "metadata": {
        "id": "E6Pjsmhvw9y-"
      }
    },
    {
      "cell_type": "code",
      "execution_count": null,
      "metadata": {
        "colab": {
          "base_uri": "https://localhost:8080/"
        },
        "id": "bmAe3bPNr1LQ",
        "outputId": "8621569f-5788-4989-9995-58de55c05922"
      },
      "outputs": [
        {
          "output_type": "stream",
          "name": "stdout",
          "text": [
            "0\n",
            "1\n",
            "1\n",
            "2\n",
            "3\n"
          ]
        }
      ],
      "source": [
        "def fib(n):\n",
        "  if(n==0):\n",
        "    return 0\n",
        "  if (n==1 or n==2):\n",
        "    return 1\n",
        "  else:\n",
        "    return(fib(n-1) + fib(n-2))\n",
        "\n",
        "\n",
        "for i in range(5):\n",
        "  print(fib(i))"
      ]
    },
    {
      "cell_type": "code",
      "source": [
        "def fact(n):\n",
        "  if n == 1:\n",
        "    # print(1)\n",
        "    return 1\n",
        "  else:\n",
        "    print(n * fact(n-1))\n",
        "    return n * fact(n-1)\n",
        "\n",
        "fact(5)"
      ],
      "metadata": {
        "colab": {
          "base_uri": "https://localhost:8080/"
        },
        "id": "G2iQBW2fwBpx",
        "outputId": "4519fb7a-ee9e-4110-b879-9acd791a8d6b"
      },
      "execution_count": null,
      "outputs": [
        {
          "output_type": "stream",
          "name": "stdout",
          "text": [
            "2\n",
            "6\n",
            "2\n",
            "24\n",
            "2\n",
            "6\n",
            "2\n",
            "120\n",
            "2\n",
            "6\n",
            "2\n",
            "24\n",
            "2\n",
            "6\n",
            "2\n"
          ]
        },
        {
          "output_type": "execute_result",
          "data": {
            "text/plain": [
              "120"
            ]
          },
          "metadata": {},
          "execution_count": 69
        }
      ]
    },
    {
      "cell_type": "code",
      "source": [
        "def print_n(n):\n",
        "  if n < 0:\n",
        "    return\n",
        "  print(n)\n",
        "  return print_n(n-1)\n",
        "\n",
        "print_n(5)"
      ],
      "metadata": {
        "colab": {
          "base_uri": "https://localhost:8080/"
        },
        "id": "BDeCCuUcx_pE",
        "outputId": "a8831187-401d-4e1e-d56b-5f091f09e395"
      },
      "execution_count": null,
      "outputs": [
        {
          "output_type": "stream",
          "name": "stdout",
          "text": [
            "5\n",
            "4\n",
            "3\n",
            "2\n",
            "1\n",
            "0\n"
          ]
        }
      ]
    },
    {
      "cell_type": "code",
      "source": [
        "# print sum of fib series\n",
        "# 0 1 1 2 3 5 8\n",
        "\n",
        "def fib(n):\n",
        "  if n < 0:\n",
        "    return -1\n",
        "  if n==0:\n",
        "    return 0\n",
        "  if n==1 or n==2:\n",
        "    return 1\n",
        "  return (fib(n-1) + fib(n-2))\n",
        "\n",
        "\n",
        "print(fib(5))"
      ],
      "metadata": {
        "colab": {
          "base_uri": "https://localhost:8080/"
        },
        "id": "EaXsopByyxiE",
        "outputId": "b0682d5a-7edb-401a-c5a4-9f515ed5835d"
      },
      "execution_count": null,
      "outputs": [
        {
          "output_type": "stream",
          "name": "stdout",
          "text": [
            "5\n"
          ]
        }
      ]
    },
    {
      "cell_type": "code",
      "source": [
        "# print numbers from 1 to n\n",
        "\n",
        "def print_n(n):\n",
        "  # print(n)\n",
        "  if n < 0:\n",
        "    return -1\n",
        "  elif n == 1:\n",
        "    print(n)\n",
        "    return 1\n",
        "  print_n(n-1)\n",
        "  print(n)\n",
        "\n",
        "print_n(5)"
      ],
      "metadata": {
        "colab": {
          "base_uri": "https://localhost:8080/"
        },
        "id": "XqJxl_vj3LMR",
        "outputId": "81885516-7286-485e-aff6-317002b90db8"
      },
      "execution_count": null,
      "outputs": [
        {
          "output_type": "stream",
          "name": "stdout",
          "text": [
            "1\n",
            "2\n",
            "3\n",
            "4\n",
            "5\n"
          ]
        }
      ]
    },
    {
      "cell_type": "code",
      "source": [
        "# print numbers from n to 1\n",
        "\n",
        "def print_rev(n):\n",
        "  if n == 1:\n",
        "    print(n)\n",
        "    return\n",
        "  print(n)\n",
        "  print_rev(n-1)\n",
        "\n",
        "print_rev(5)"
      ],
      "metadata": {
        "colab": {
          "base_uri": "https://localhost:8080/"
        },
        "id": "5Imq43yq7pGj",
        "outputId": "158a380a-b904-4963-fcef-342405f55153"
      },
      "execution_count": null,
      "outputs": [
        {
          "output_type": "stream",
          "name": "stdout",
          "text": [
            "5\n",
            "4\n",
            "3\n",
            "2\n",
            "1\n"
          ]
        }
      ]
    },
    {
      "cell_type": "code",
      "source": [
        "# Factorial\n",
        "\n",
        "# 5! = (5 * 4!)\n",
        "def fatc(n):\n",
        "  if n == 0 or n==1:\n",
        "    return 1\n",
        "  return n * (fatc(n-1))\n",
        "\n",
        "print(fatc(5))"
      ],
      "metadata": {
        "colab": {
          "base_uri": "https://localhost:8080/"
        },
        "id": "McfX8azw92TG",
        "outputId": "c37d59fb-226f-4335-8e04-49b608f3f2cf"
      },
      "execution_count": null,
      "outputs": [
        {
          "output_type": "stream",
          "name": "stdout",
          "text": [
            "120\n"
          ]
        }
      ]
    },
    {
      "cell_type": "code",
      "source": [
        "# tower of hanoi\n",
        "# consider 3 towers and 3 disks, 3 towers: first, second, third, 3 disk: a, b, c\n",
        "\n",
        "def toh(n, source, dest, help):\n",
        "  if n == 1:\n",
        "    print(\"plate \", n, \"from \", source, \"to \", dest)\n",
        "    return\n",
        "  toh(n-1, source, help, dest)\n",
        "  print(\"plate \", n, \"from \", source, \"to \", dest)\n",
        "  toh(n-1, help, dest, source)\n",
        "\n",
        "\n",
        "toh(3, 's', 'd', 'h')"
      ],
      "metadata": {
        "colab": {
          "base_uri": "https://localhost:8080/"
        },
        "id": "_q05cmhW_h6n",
        "outputId": "e4a30035-82ef-4b7b-de58-d7848c51819c"
      },
      "execution_count": null,
      "outputs": [
        {
          "output_type": "stream",
          "name": "stdout",
          "text": [
            "plate  1 from  s to  d\n",
            "plate  2 from  s to  h\n",
            "plate  1 from  d to  h\n",
            "plate  3 from  s to  d\n",
            "plate  1 from  h to  s\n",
            "plate  2 from  h to  d\n",
            "plate  1 from  s to  d\n"
          ]
        }
      ]
    },
    {
      "cell_type": "code",
      "source": [
        "def toh(n, source, dest, help):\n",
        "  if n == 1:\n",
        "    print(\"move disk\",n, \"from\", source, \"to\", dest)\n",
        "    return\n",
        "  toh(n-1, source, help, dest)\n",
        "  print(\"move disk\",n, \"from\", source, \"to\", dest)\n",
        "  toh(n-1, help, dest, source)\n",
        "\n",
        "\n",
        "toh(3, 's', 'd', 'h')\n",
        "\n",
        "\n",
        "# move disk 1 from source to dest\n",
        "# move disk 2 from source to help\n",
        "# move disk 1 from dest to help\n",
        "# move disk 3 from source to dest\n",
        "# move disk 1 from help to source\n",
        "# move disk 2 from help to dest\n",
        "# move disk 1 from source to dest"
      ],
      "metadata": {
        "colab": {
          "base_uri": "https://localhost:8080/"
        },
        "id": "BD4ANPxxHs7H",
        "outputId": "65bb2250-5b42-474a-ba0c-7bd238195082"
      },
      "execution_count": null,
      "outputs": [
        {
          "output_type": "stream",
          "name": "stdout",
          "text": [
            "move disk 1 from s to d\n",
            "move disk 2 from s to h\n",
            "move disk 1 from d to h\n",
            "move disk 3 from s to d\n",
            "move disk 1 from h to s\n",
            "move disk 2 from h to d\n",
            "move disk 1 from s to d\n"
          ]
        }
      ]
    },
    {
      "cell_type": "code",
      "source": [
        "inp_arr = [1,2,3,4,5]\n",
        "\n",
        "out_arr = []\n",
        "\n",
        "def rev_arr(inp_arr):\n",
        "  if len(inp_arr) == 1:\n",
        "    out_arr.append(inp_arr[0])\n",
        "    return\n",
        "  rev_arr(inp_arr[1:])\n",
        "  out_arr.append(inp_arr[0])\n",
        "\n",
        "\n",
        "rev_arr(inp_arr)\n",
        "print(out_arr)"
      ],
      "metadata": {
        "id": "V772CwMvMkt2",
        "colab": {
          "base_uri": "https://localhost:8080/"
        },
        "outputId": "fb33cf26-87a2-4aac-cbd8-104b0d77fbe2"
      },
      "execution_count": null,
      "outputs": [
        {
          "output_type": "stream",
          "name": "stdout",
          "text": [
            "[5, 4, 3, 2, 1]\n"
          ]
        }
      ]
    },
    {
      "cell_type": "code",
      "source": [
        "# Reverse a stack\n",
        "# stack is last in and first out\n",
        "# last element to go in stack is 1 and first to go in stack is 5\n",
        "# 1---> 2---> 3---> 4 ---> 5\n",
        "# imagine these are books stored in a box, first book to go in is 5, followed by 4 and so on....\n",
        "\n",
        "inp_arr = [1,2,3,4,5]\n",
        "\n",
        "out_stack_arr = []\n",
        "\n",
        "def rev_stack(inp_arr):\n",
        "  if len(inp_arr) == 1:\n",
        "    out_stack_arr.append(inp_arr[-1])\n",
        "    return\n",
        "  alp = inp_arr.pop(-1)\n",
        "  out_stack_arr.append(alp)\n",
        "  rev_stack(inp_arr)\n",
        "\n",
        "\n",
        "rev_stack(inp_arr)\n",
        "print(out_stack_arr)"
      ],
      "metadata": {
        "colab": {
          "base_uri": "https://localhost:8080/"
        },
        "id": "UgqMjRIXoLTD",
        "outputId": "a9367eae-47ed-4587-b207-c0438face7e7"
      },
      "execution_count": null,
      "outputs": [
        {
          "output_type": "stream",
          "name": "stdout",
          "text": [
            "[5, 4, 3, 2, 1]\n"
          ]
        }
      ]
    },
    {
      "cell_type": "code",
      "source": [
        "# sort an array using recurssion\n",
        "\n",
        "\n",
        "arr = [4,5,1,3,2]\n",
        "\n",
        "def insert(arr, alpha):\n",
        "  if len(arr)==0 or arr[-1] < alpha:\n",
        "    arr.append(alpha)\n",
        "    return\n",
        "  val = arr.pop(-1)\n",
        "  insert(arr, alpha)\n",
        "  arr.append(val)\n",
        "\n",
        "\n",
        "def sort_arr(arr):\n",
        "  if len(arr) == 1:\n",
        "    return\n",
        "  alpha = arr.pop(-1)\n",
        "  sort_arr(arr)\n",
        "  insert(arr, alpha)\n",
        "\n",
        "\n",
        "\n",
        "sort_arr(arr)\n",
        "print(arr)"
      ],
      "metadata": {
        "id": "y-DQNHaOQR5B",
        "colab": {
          "base_uri": "https://localhost:8080/"
        },
        "outputId": "8bc46466-65bc-4954-bcaf-334e0c79430c"
      },
      "execution_count": null,
      "outputs": [
        {
          "output_type": "stream",
          "name": "stdout",
          "text": [
            "[1, 2, 3, 4, 5]\n"
          ]
        }
      ]
    },
    {
      "cell_type": "code",
      "source": [
        "arr = [4,5,1,3,2]\n",
        "\n",
        "new = []\n",
        "\n",
        "def compare(val, arr):\n",
        "  if len(arr) == 0 or arr[-1] < val:\n",
        "    arr.append(val)\n",
        "    return\n",
        "  temp = arr.pop(-1)\n",
        "  compare(val, arr)\n",
        "  arr.append(temp)\n",
        "\n",
        "def sort_arr(arr):\n",
        "  if len(arr) == 1:\n",
        "    return\n",
        "  val = arr.pop(-1)\n",
        "  sort_arr(arr)\n",
        "  compare(val, arr)\n",
        "\n",
        "\n",
        "\n",
        "sort_arr(arr)\n",
        "\n",
        "print(arr)"
      ],
      "metadata": {
        "id": "7lMu3BAvkoaB",
        "colab": {
          "base_uri": "https://localhost:8080/"
        },
        "outputId": "94890e54-0dd3-4578-ad2b-2d49b68da525"
      },
      "execution_count": null,
      "outputs": [
        {
          "output_type": "stream",
          "name": "stdout",
          "text": [
            "[1, 2, 3, 4, 5]\n"
          ]
        }
      ]
    },
    {
      "cell_type": "markdown",
      "source": [
        "## subset of string"
      ],
      "metadata": {
        "id": "ZHNJS9qQIOXH"
      }
    },
    {
      "cell_type": "markdown",
      "source": [
        "<img src=\"https://lh7-us.googleusercontent.com/wpmG8Tj4VK-Qayeph-5Ck3KNFPnIG_cwoSkAZCMztfhw0sPy_cn_m8i7ipBE7WQv9rMRswrgBa96kuCqm55mzPmf-250_y2a_8-vAQ-JX9cB-3GIegTV5mTQnKUqrfeDrsHPwhtw0lkNc-LrrVnq-is\">\n"
      ],
      "metadata": {
        "id": "68VycTM0IEys"
      }
    },
    {
      "cell_type": "code",
      "source": [
        "# find the subset / powerset of a string\n",
        "\n",
        "inp = 'abcd'\n",
        "out = \"\"\n",
        "\n",
        "def SubsetOFString(inp, out):\n",
        "  if len(inp) == 0:\n",
        "    print('String:', out)\n",
        "    return\n",
        "  SubsetOFString(inp[1:], out + inp[0])\n",
        "  SubsetOFString(inp[1:], out)\n",
        "\n",
        "SubsetOFString(inp, out)"
      ],
      "metadata": {
        "colab": {
          "base_uri": "https://localhost:8080/"
        },
        "id": "14STBS3wD1BZ",
        "outputId": "7a4a74ea-1a57-4b09-b2cd-2d904ddf9411"
      },
      "execution_count": null,
      "outputs": [
        {
          "output_type": "stream",
          "name": "stdout",
          "text": [
            "String: abcd\n",
            "String: abc\n",
            "String: abd\n",
            "String: ab\n",
            "String: acd\n",
            "String: ac\n",
            "String: ad\n",
            "String: a\n",
            "String: bcd\n",
            "String: bc\n",
            "String: bd\n",
            "String: b\n",
            "String: cd\n",
            "String: c\n",
            "String: d\n",
            "String: \n"
          ]
        }
      ]
    },
    {
      "cell_type": "code",
      "source": [
        "# find the Unique subset / powerset of a string\n",
        "\n",
        "inp = 'abb'\n",
        "out = ''\n",
        "hash_map = {}\n",
        "def SubsetOFString(inp, out):\n",
        "  if len(inp) == 0:\n",
        "    hash_map[out] = 675\n",
        "    return\n",
        "\n",
        "  SubsetOFString(inp[1:], out+ inp[0])\n",
        "  SubsetOFString(inp[1:], out)\n",
        "\n",
        "SubsetOFString(inp, out)\n",
        "print(list(hash_map.keys()))\n"
      ],
      "metadata": {
        "id": "xUyoMwNqc7CT",
        "colab": {
          "base_uri": "https://localhost:8080/"
        },
        "outputId": "cec1aa69-27a1-472f-f4ba-bcfbe1a04644"
      },
      "execution_count": null,
      "outputs": [
        {
          "output_type": "stream",
          "name": "stdout",
          "text": [
            "['abb', 'ab', 'a', 'bb', 'b', '']\n"
          ]
        }
      ]
    },
    {
      "cell_type": "markdown",
      "source": [
        "## Permutation Of String With Spaces\n",
        "\n",
        "<img src = \"https://lh7-us.googleusercontent.com/yQYzUQSr6OwN32iu_lF-H7PrKr5fe9IcQtD3h09wPx3nrvaaQD99IrmP6BM1UpMDF_zdmekCn5Q3GHffO7Btpw9iGgrjUjMXgefBy5UI5EIEl8ATA7AI66Np4SMcoRSYqUJJmtZvFz20JSnkS_5PJuE\">"
      ],
      "metadata": {
        "id": "3L70nejvl8is"
      }
    },
    {
      "cell_type": "code",
      "source": [
        "# permutation of string with spaces\n",
        "# initially break string\n",
        "# recurse until we get an empty input string\n",
        "\n",
        "inp = 'tejas'\n",
        "out = ''\n",
        "\n",
        "def permOfStr(inp, out):\n",
        "  if len(inp) == 0:\n",
        "    print(out)\n",
        "    return\n",
        "  permOfStr(inp[1:], out+\" \"+inp[0])\n",
        "  permOfStr(inp[1:], out+inp[0])\n",
        "\n",
        "print(permOfStr(inp[1:], inp[0]))"
      ],
      "metadata": {
        "id": "8U4h3q9mgWsJ",
        "colab": {
          "base_uri": "https://localhost:8080/"
        },
        "outputId": "804d4764-cd13-457f-b648-802fda32b937"
      },
      "execution_count": null,
      "outputs": [
        {
          "output_type": "stream",
          "name": "stdout",
          "text": [
            "t e j a s\n",
            "t e j as\n",
            "t e ja s\n",
            "t e jas\n",
            "t ej a s\n",
            "t ej as\n",
            "t eja s\n",
            "t ejas\n",
            "te j a s\n",
            "te j as\n",
            "te ja s\n",
            "te jas\n",
            "tej a s\n",
            "tej as\n",
            "teja s\n",
            "tejas\n",
            "None\n"
          ]
        }
      ]
    },
    {
      "cell_type": "markdown",
      "source": [
        "## Generating all permutation with case change\n",
        "\n",
        "<img src = \"https://lh7-us.googleusercontent.com/r_M7ABJRBSphNtBtZoSZLAgtSc8SrR__3SqjL17r0Xi6oS0OcogTzBWS1T27UsUum6LJ-HWT93RhQi1JgjzXktgD_mjs_Ck5VZdFtneQbEc2vNrMrdGHr_4XhwwGJd0Gh89d-z8hI-u81RLrD4cGQvY\">"
      ],
      "metadata": {
        "id": "2n1-mXtlCm0E"
      }
    },
    {
      "cell_type": "code",
      "source": [
        "# posible inputs ab, Ab, aB, AB\n",
        "\n",
        "inp = 'abc'\n",
        "out = ''\n",
        "\n",
        "def permCaseChange(inp, out):\n",
        "  if len(inp) == 0:\n",
        "    print(out)\n",
        "    return\n",
        "  permCaseChange(inp[1:], out + inp[0])\n",
        "  permCaseChange(inp[1:], out + inp[0].upper())\n",
        "\n",
        "\n",
        "permCaseChange(inp, out)"
      ],
      "metadata": {
        "id": "iWbix_7KCvMR",
        "colab": {
          "base_uri": "https://localhost:8080/"
        },
        "outputId": "e2fd42e9-fe9e-46c3-f2e2-1f2febaad1a8"
      },
      "execution_count": null,
      "outputs": [
        {
          "output_type": "stream",
          "name": "stdout",
          "text": [
            "abc\n",
            "abC\n",
            "aBc\n",
            "aBC\n",
            "Abc\n",
            "AbC\n",
            "ABc\n",
            "ABC\n"
          ]
        }
      ]
    },
    {
      "cell_type": "markdown",
      "source": [
        "## power of 2 recurssive\n",
        "\n",
        "<img src=\"https://lh7-us.googleusercontent.com/uN35xfyNq1Mnxn0bhnw19q0UB0GUgiIJ4dWrbxoQrutiYFw6cWIIVxm6O6chn9HkrzQPCcMpA_Dzk3wxbELIDyoTvS_JZ6sU6O6Ki_zzBc_iOqJfAVsJoCRh9R48RQsuFPrdMUPedCUub25flTWtNkQ\">"
      ],
      "metadata": {
        "id": "qHHHoQocXRuN"
      }
    },
    {
      "cell_type": "code",
      "source": [
        "power = 4\n",
        "\n",
        "def PowerOfTwo(power):\n",
        "  # power of 2^0 is 1\n",
        "  if power == 0:\n",
        "    return 1\n",
        "  # if power is odd\n",
        "  if power %2 == 0:\n",
        "    return PowerOfTwo(power//2) * PowerOfTwo(power//2)\n",
        "  # if power is even\n",
        "  else:\n",
        "    return 2 * PowerOfTwo(power//2) * PowerOfTwo(power//2)\n",
        "\n",
        "\n",
        "\n",
        "PowerOfTwo(power)"
      ],
      "metadata": {
        "id": "8zPZ5--YlIrD",
        "colab": {
          "base_uri": "https://localhost:8080/"
        },
        "outputId": "7baa8a49-dee8-4c3b-d2d2-19a4a234fd7f"
      },
      "execution_count": null,
      "outputs": [
        {
          "output_type": "execute_result",
          "data": {
            "text/plain": [
              "16"
            ]
          },
          "metadata": {},
          "execution_count": 9
        }
      ]
    },
    {
      "cell_type": "markdown",
      "source": [
        "## Reverse a number\n",
        "\n",
        "<img src=\"https://lh7-us.googleusercontent.com/KTE-jt8RuEKeTnhjvwPvzlpoVZEwp_zSe-vCQUYgfzEkMqh1El5zKasvdQGK2PXKfcaBgx5q9oFRqbzgKeYig5vwDTe1qzkmyVSQBqH4yiMA8GyISGZ4cFOwRtJzLYzi11WS59yF_HaIP3-8mwjgO2Y\">\n",
        "\n",
        "<img src=\"https://lh7-us.googleusercontent.com/IO5C1VExSy0K0LCAl-A6r6-vinRJRy53Or9j3xwDF3wBaWK8foUZMc-H9AaSN73n6QNheqAzf2cwsppH9CU6qzyRVm--xx8yf14fBQkg5tnNl3woXmRyay9FOyF9UTN_vmzLRFur9Pdwzdz7p57z7bU\">"
      ],
      "metadata": {
        "id": "RgyMgIGjoafV"
      }
    },
    {
      "cell_type": "code",
      "source": [
        "num = 3456\n",
        "\n",
        "op = 0\n",
        "\n",
        "def revNum(num):\n",
        "  global op\n",
        "  if num // 10 == 0:\n",
        "    op = op * 10 + num\n",
        "    return\n",
        "  op = op * 10 + (num % 10)\n",
        "  revNum(num//10)\n",
        "\n",
        "\n",
        "\n",
        "revNum(num)\n",
        "print(op)"
      ],
      "metadata": {
        "id": "QfLI-JzDoi2P",
        "colab": {
          "base_uri": "https://localhost:8080/"
        },
        "outputId": "4706e421-8abb-4559-f057-81228a4aa0ff"
      },
      "execution_count": null,
      "outputs": [
        {
          "output_type": "stream",
          "name": "stdout",
          "text": [
            "6543\n"
          ]
        }
      ]
    },
    {
      "cell_type": "markdown",
      "source": [
        "## Letter case permutation\n",
        "\n",
        "<img src = \"https://lh7-us.googleusercontent.com/_vAzHWGGYcJ9I6p_OBadYYAT6BiIIqt2e6lqHP6vX7SX6rETCuldauBXBgdMtIIVR21y3a8m_N--uCT-1X7PM7Jfm5RGKkmDRXS8d_woZCC8bpu0AM_VZ8I2dckMKgqhuPDnQUhrzRqFmZgyYnpcyq4\">\n",
        "\n",
        "<img src = \"https://lh7-us.googleusercontent.com/54ZzWi1yfa_FZC1wB9B4bLsXIegNU_d2ZRdWv74rZCF1FnKaq_vCNQZWL9u55gadCz3bgCjzpyMwjOQXCrJcszeIKH4HKbFbXkI_NB5MEZMgJ2pvarG_elaA8nV55iUxSBKHbEO6fXWZ03Sepw1XD7Y\">"
      ],
      "metadata": {
        "id": "F-EGbM_hGrmY"
      }
    },
    {
      "cell_type": "code",
      "source": [
        "inp = 'a1b2'\n",
        "out = ''\n",
        "\n",
        "def letterCasePerm(inp, out):\n",
        "  if len(inp) == 0:\n",
        "    print(out)\n",
        "    return\n",
        "  if inp[0] in '1234567890':\n",
        "    letterCasePerm(inp[1:], out+inp[0])\n",
        "  else:\n",
        "    letterCasePerm(inp[1:], out+inp[0])\n",
        "    letterCasePerm(inp[1:], out+inp[0].upper())\n",
        "\n",
        "\n",
        "letterCasePerm(inp, out)"
      ],
      "metadata": {
        "id": "tkJS79TtG3PI",
        "colab": {
          "base_uri": "https://localhost:8080/"
        },
        "outputId": "b518ace4-7e69-4316-b6fc-ca101057b504"
      },
      "execution_count": null,
      "outputs": [
        {
          "output_type": "stream",
          "name": "stdout",
          "text": [
            "a1b2\n",
            "a1B2\n",
            "A1b2\n",
            "A1B2\n"
          ]
        }
      ]
    },
    {
      "cell_type": "markdown",
      "source": [
        "## Is number a palindrome?\n",
        "\n",
        "<img src=\"https://lh7-us.googleusercontent.com/iXqNsz2fZKHmnzkzAPGaHWB0gwPkEs2QDBn31AVy7idvmU6Mmu70tzij2akOHV2VMqLfAk0mOptANFB4W8tqkagJvHFgvHLWQj_-cVuT_IRYzWXTHtw0G06HDbNfmbIolNDF8zzf23kxUBzM3yy4Skc\">"
      ],
      "metadata": {
        "id": "-JC2R9w99fgb"
      }
    },
    {
      "cell_type": "code",
      "source": [
        "# if number from left to right is same as number from right to left then it is a palindrome\n",
        "\n",
        "inp = 565\n",
        "\n",
        "op = 0\n",
        "\n",
        "def isPalindrome(inp):\n",
        "  global op\n",
        "  if inp//10 == 0:\n",
        "    op = op * 10 + inp\n",
        "    return\n",
        "  # to get the last digit use reminder when divided\n",
        "  op = op * 10 + (inp % 10)\n",
        "  # divide by 10 to get first 2 digits for recurssion\n",
        "  isPalindrome(inp//10)\n",
        "\n",
        "isPalindrome(inp)\n",
        "\n",
        "if inp == op:\n",
        "  print(\"The number\", inp, \"is a palindrome\")\n",
        "else:\n",
        "  print(\"The number\", inp, \"is not a palindrome\")\n"
      ],
      "metadata": {
        "id": "IIzCqiAL9mUL",
        "colab": {
          "base_uri": "https://localhost:8080/"
        },
        "outputId": "003ad309-0985-4d04-ac9e-f4c4846cba27"
      },
      "execution_count": null,
      "outputs": [
        {
          "output_type": "stream",
          "name": "stdout",
          "text": [
            "The number 565 is a palindrome\n"
          ]
        }
      ]
    },
    {
      "cell_type": "markdown",
      "source": [
        "## Is Number a Armstrong number?\n",
        "\n",
        "<img src= \"https://lh7-us.googleusercontent.com/uc5-jHCqu5jRuwuYKtNK8BC7snbGKwR2EsqJ5lPHJpFZXVbl4AEQ4mJGBITp1gRl3xnf8Cxt0iD0SRlGobiQViz_TWNFqwxeJ7CIXWi0_t4s2TA_pZZUPNIUc7gx9Er3zRKmeEg5DWjjL2A4jBPJEFE\">"
      ],
      "metadata": {
        "id": "T2Tzg2a9Him5"
      }
    },
    {
      "cell_type": "code",
      "source": [
        "# find length of the input\n",
        "# square each digit by the length of number\n",
        "# add those digits\n",
        "# if input number == to the output then armstrong\n",
        "\n",
        "inp = 153\n",
        "\n",
        "len = 0\n",
        "\n",
        "def lenOfnum(inp):\n",
        "  global len\n",
        "  if inp < 10 :\n",
        "    len = len+1\n",
        "    return\n",
        "  len = len + 1\n",
        "  lenOfnum(inp//10)\n",
        "\n",
        "op = 0\n",
        "\n",
        "def armstrong(inp, len):\n",
        "  global op\n",
        "  if inp < 10:\n",
        "    op = op + (inp%10) ** len\n",
        "    return\n",
        "  op = op + (inp%10) ** len\n",
        "  armstrong(inp//10, len)\n",
        "\n",
        "\n",
        "\n",
        "\n",
        "lenOfnum(inp)\n",
        "armstrong(inp, len)\n",
        "\n",
        "if inp == op:\n",
        "  print(\"The number\", inp,\"is an Amrstrong number\")\n",
        "else:\n",
        "  print(\"The number\", inp,\"is not an Amrstrong number\")\n"
      ],
      "metadata": {
        "id": "7n1AdZtjHr3z",
        "colab": {
          "base_uri": "https://localhost:8080/"
        },
        "outputId": "e8d61a44-897f-4976-97df-db1dcf4feea2"
      },
      "execution_count": null,
      "outputs": [
        {
          "output_type": "stream",
          "name": "stdout",
          "text": [
            "The number 153 is an Amrstrong number\n"
          ]
        }
      ]
    },
    {
      "cell_type": "code",
      "source": [
        "def diffWaysToCompute(expression):\n",
        "    if expression.isdigit():\n",
        "        return [int(expression)]\n",
        "\n",
        "    results = []\n",
        "    for i in range(len(expression)):\n",
        "        if expression[i] in \"+-*\":\n",
        "            left_results = diffWaysToCompute(expression[:i])\n",
        "            right_results = diffWaysToCompute(expression[i+1:])\n",
        "            for left in left_results:\n",
        "                for right in right_results:\n",
        "                    if expression[i] == '+':\n",
        "                        results.append(left + right)\n",
        "                    elif expression[i] == '-':\n",
        "                        results.append(left - right)\n",
        "                    elif expression[i] == '*':\n",
        "                        results.append(left * right)\n",
        "    return results\n",
        "\n",
        "\n",
        "# Test cases\n",
        "expression1 = \"2-1-1\"\n",
        "expression2 = \"2*3-4*5\"\n",
        "\n",
        "\n",
        "diffWaysToCompute(expression1)"
      ],
      "metadata": {
        "id": "m2UbLvNXoxpy",
        "colab": {
          "base_uri": "https://localhost:8080/",
          "height": 305
        },
        "outputId": "70da12c4-1c35-45cb-c461-f42e8dfac9c7"
      },
      "execution_count": null,
      "outputs": [
        {
          "output_type": "error",
          "ename": "TypeError",
          "evalue": "'int' object is not callable",
          "traceback": [
            "\u001b[0;31m---------------------------------------------------------------------------\u001b[0m",
            "\u001b[0;31mTypeError\u001b[0m                                 Traceback (most recent call last)",
            "\u001b[0;32m<ipython-input-14-d8513324a7c6>\u001b[0m in \u001b[0;36m<cell line: 26>\u001b[0;34m()\u001b[0m\n\u001b[1;32m     24\u001b[0m \u001b[0;34m\u001b[0m\u001b[0m\n\u001b[1;32m     25\u001b[0m \u001b[0;34m\u001b[0m\u001b[0m\n\u001b[0;32m---> 26\u001b[0;31m \u001b[0mdiffWaysToCompute\u001b[0m\u001b[0;34m(\u001b[0m\u001b[0mexpression1\u001b[0m\u001b[0;34m)\u001b[0m\u001b[0;34m\u001b[0m\u001b[0;34m\u001b[0m\u001b[0m\n\u001b[0m",
            "\u001b[0;32m<ipython-input-14-d8513324a7c6>\u001b[0m in \u001b[0;36mdiffWaysToCompute\u001b[0;34m(expression)\u001b[0m\n\u001b[1;32m      4\u001b[0m \u001b[0;34m\u001b[0m\u001b[0m\n\u001b[1;32m      5\u001b[0m     \u001b[0mresults\u001b[0m \u001b[0;34m=\u001b[0m \u001b[0;34m[\u001b[0m\u001b[0;34m]\u001b[0m\u001b[0;34m\u001b[0m\u001b[0;34m\u001b[0m\u001b[0m\n\u001b[0;32m----> 6\u001b[0;31m     \u001b[0;32mfor\u001b[0m \u001b[0mi\u001b[0m \u001b[0;32min\u001b[0m \u001b[0mrange\u001b[0m\u001b[0;34m(\u001b[0m\u001b[0mlen\u001b[0m\u001b[0;34m(\u001b[0m\u001b[0mexpression\u001b[0m\u001b[0;34m)\u001b[0m\u001b[0;34m)\u001b[0m\u001b[0;34m:\u001b[0m\u001b[0;34m\u001b[0m\u001b[0;34m\u001b[0m\u001b[0m\n\u001b[0m\u001b[1;32m      7\u001b[0m         \u001b[0;32mif\u001b[0m \u001b[0mexpression\u001b[0m\u001b[0;34m[\u001b[0m\u001b[0mi\u001b[0m\u001b[0;34m]\u001b[0m \u001b[0;32min\u001b[0m \u001b[0;34m\"+-*\"\u001b[0m\u001b[0;34m:\u001b[0m\u001b[0;34m\u001b[0m\u001b[0;34m\u001b[0m\u001b[0m\n\u001b[1;32m      8\u001b[0m             \u001b[0mleft_results\u001b[0m \u001b[0;34m=\u001b[0m \u001b[0mdiffWaysToCompute\u001b[0m\u001b[0;34m(\u001b[0m\u001b[0mexpression\u001b[0m\u001b[0;34m[\u001b[0m\u001b[0;34m:\u001b[0m\u001b[0mi\u001b[0m\u001b[0;34m]\u001b[0m\u001b[0;34m)\u001b[0m\u001b[0;34m\u001b[0m\u001b[0;34m\u001b[0m\u001b[0m\n",
            "\u001b[0;31mTypeError\u001b[0m: 'int' object is not callable"
          ]
        }
      ]
    },
    {
      "cell_type": "markdown",
      "source": [
        "# Singly Linked List\n",
        "## (insert / deleted / search / print at different positions)"
      ],
      "metadata": {
        "id": "D5ZKBkBHAppj"
      }
    },
    {
      "cell_type": "code",
      "source": [
        "class Node:\n",
        "  def __init__(self, data):\n",
        "    self.data = data\n",
        "    self.next = None\n",
        "\n",
        "class LinkedList():\n",
        "  def __init__(self):\n",
        "    self.head = None\n",
        "\n",
        "  def insert_node_at_start(self, data):\n",
        "    new_node = Node(data)\n",
        "    new_node.next = self.head\n",
        "    self.head = new_node\n",
        "\n",
        "  def delete_node_at_start(self):\n",
        "    if self.head == None:\n",
        "      print(\"No Nodes available\")\n",
        "      return\n",
        "    self.head = self.head.next\n",
        "\n",
        "  def insert_node_at_end(self, data):\n",
        "    new_node = Node(data)\n",
        "    pointer = self.head\n",
        "    while pointer.next != None:\n",
        "      pointer = pointer.next\n",
        "    new_node.next = pointer.next\n",
        "    pointer.next = new_node\n",
        "\n",
        "  def delete_node_at_end(self):\n",
        "    pointer = self.head\n",
        "    if pointer.next == None or pointer == None:\n",
        "      self.head = None\n",
        "      return\n",
        "    else:\n",
        "      while pointer.next.next != None:\n",
        "        pointer = pointer.next\n",
        "      pointer.next = None\n",
        "\n",
        "  def insert_nodeData_at_some_pos(self, data, pos):\n",
        "    new_node = Node(data)\n",
        "    pointer = self.head\n",
        "    while pointer != None:\n",
        "      if pointer.data == pos:\n",
        "        new_node.next = pointer.next\n",
        "        pointer.next = new_node\n",
        "        break\n",
        "      else:\n",
        "        pointer = pointer.next\n",
        "\n",
        "  def delete_node_in_middle(self, data):\n",
        "    pointer = self.head\n",
        "    if pointer.data == data or pointer == None:\n",
        "      self.head = None\n",
        "      return\n",
        "    else:\n",
        "      while pointer.data != data:\n",
        "        previous_pointer = pointer\n",
        "        pointer = pointer.next\n",
        "      previous_pointer.next = pointer.next\n",
        "\n",
        "  def length_of_Linked_List_iterative(self):\n",
        "    count = 0\n",
        "    pointer = self.head\n",
        "    while pointer != None:\n",
        "      count = count + 1\n",
        "      pointer = pointer.next\n",
        "    return count\n",
        "\n",
        "  def length_of_Linked_List_recursive(self, head):\n",
        "    while head == None:\n",
        "      return 0\n",
        "    return 1 + self.length_of_Linked_List_recursive(head.next)\n",
        "\n",
        "  def delete_to_free_memory(self):\n",
        "    pointer = self.head\n",
        "    while pointer != None:\n",
        "      prev_pointer = pointer.next\n",
        "      del pointer\n",
        "      pointer = prev_pointer\n",
        "\n",
        "  def search_data(self, search_data):\n",
        "    pointer = self.head\n",
        "    node_position = 1\n",
        "    while pointer.data != search_data or pointer != None:\n",
        "      node_position = node_position + 1\n",
        "      pointer = pointer.next\n",
        "      if pointer.data == search_data:\n",
        "        pri = print(\"The searched data\",pointer.data , \"is present in the node\", node_position)\n",
        "        return pri\n",
        "      else:\n",
        "        pri = print(\"data not present in any node of the linked list\")\n",
        "        return pri\n",
        "\n",
        "\n",
        "\n",
        "  def print_nodes(self):\n",
        "    pointer = self.head\n",
        "    while pointer is not None:\n",
        "      print(pointer.data, end=\" \")\n",
        "      pointer = pointer.next\n",
        "\n",
        "\n",
        "\n",
        "\n"
      ],
      "metadata": {
        "id": "Kicbetm3N2d4"
      },
      "execution_count": null,
      "outputs": []
    },
    {
      "cell_type": "code",
      "source": [
        "\n",
        "# create object\n",
        "l = LinkedList()\n",
        "\n",
        "# insert list of nodes\n",
        "for i in [1,2,3,4,5]:\n",
        "  l.insert_node_at_start(i)\n",
        "print(l.head.data,'\\n')\n",
        "\n",
        "# print all nodes\n",
        "l.print_nodes()\n",
        "print('\\n')\n",
        "\n",
        "# insert starting node\n",
        "l.insert_node_at_start(76)\n",
        "print(\"# insert starting node\")\n",
        "l.print_nodes()\n",
        "print('\\n')\n",
        "\n",
        "# delete starting node\n",
        "l.delete_node_at_start()\n",
        "print(\"# delete starting node\")\n",
        "l.print_nodes()\n",
        "print('\\n')\n",
        "\n",
        "# insert at the end of the node\n",
        "l.insert_node_at_end(55)\n",
        "print(\"# insert at the end of the node\")\n",
        "l.print_nodes()\n",
        "print('\\n')\n",
        "\n",
        "# delete at the end of the node\n",
        "l.delete_node_at_end()\n",
        "print(\"# delete at the end of the node\")\n",
        "l.print_nodes()\n",
        "print('\\n')\n",
        "\n",
        "# insert data at middle\n",
        "l.insert_nodeData_at_some_pos(10, 2)\n",
        "print(\"# insert data at middle\")\n",
        "l.print_nodes()\n",
        "print('\\n')\n",
        "\n",
        "# delete data at middle\n",
        "l.delete_node_in_middle(3)\n",
        "print(\"# delete data at middle\")\n",
        "l.print_nodes()\n",
        "print('\\n')\n",
        "\n",
        "# legth of Linked List\n",
        "len = l.length_of_Linked_List_iterative()\n",
        "print(\"# legth of Linked List Iterative\")\n",
        "print(len)\n",
        "print('\\n')\n",
        "\n",
        "# legth of Linked List recursive\n",
        "len = l.length_of_Linked_List_recursive(l.head)\n",
        "print(\"# legth of Linked List recursive\")\n",
        "print(len)\n",
        "print('\\n')\n",
        "\n",
        "# delete to free memory\n",
        "l.delete_to_free_memory()\n",
        "print(\"# delete to free memory\")\n",
        "l.print_nodes()\n",
        "print('\\n')\n",
        "\n",
        "# search data and node number\n",
        "print(\"# search data and node number\")\n",
        "l.search_data(45)\n",
        "print('\\n')\n"
      ],
      "metadata": {
        "id": "PlclXFqSC__D",
        "colab": {
          "base_uri": "https://localhost:8080/"
        },
        "outputId": "5ef8e290-6c93-4344-e6d8-38a5762e18c0"
      },
      "execution_count": null,
      "outputs": [
        {
          "output_type": "stream",
          "name": "stdout",
          "text": [
            "5 \n",
            "\n",
            "5 4 3 2 1 \n",
            "\n",
            "# insert starting node\n",
            "76 5 4 3 2 1 \n",
            "\n",
            "# delete starting node\n",
            "5 4 3 2 1 \n",
            "\n",
            "# insert at the end of the node\n",
            "5 4 3 2 1 55 \n",
            "\n",
            "# delete at the end of the node\n",
            "5 4 3 2 1 \n",
            "\n",
            "# insert data at middle\n",
            "5 4 3 2 10 1 \n",
            "\n",
            "# delete data at middle\n",
            "5 4 2 10 1 \n",
            "\n",
            "# legth of Linked List Iterative\n",
            "5\n",
            "\n",
            "\n",
            "# legth of Linked List recursive\n",
            "5\n",
            "\n",
            "\n",
            "# delete to free memory\n",
            "5 4 2 10 1 \n",
            "\n",
            "# search data and node number\n",
            "data not present in any node of the linked list\n",
            "\n",
            "\n"
          ]
        }
      ]
    },
    {
      "cell_type": "markdown",
      "source": [
        "## Doubly Linked List"
      ],
      "metadata": {
        "id": "F1Vl00BsKUOj"
      }
    },
    {
      "cell_type": "code",
      "source": [
        "from ast import arg\n",
        "class Node:\n",
        "  def __init__(self, data):\n",
        "    self.data = data\n",
        "    self.prev = None\n",
        "    self.next = None\n",
        "\n",
        "class doubly_linked_list():\n",
        "  def __init__(self):\n",
        "    self.head = None\n",
        "\n",
        "  def insert_at_start(self, data):\n",
        "    new_node = Node(data)\n",
        "    if self.head == None:\n",
        "      self.head = new_node\n",
        "    else:\n",
        "      self.head.prev = new_node\n",
        "      new_node.next = self.head\n",
        "      self.head = new_node\n",
        "\n",
        "  def delete_at_start(self):\n",
        "    if self.head == None:\n",
        "      print(\"Nothing to delete\")\n",
        "    else:\n",
        "      self.head = self.head.next\n",
        "\n",
        "  def search_node_from_data(self, search_data):\n",
        "    pointer = self.head\n",
        "    keyNode = None\n",
        "    while pointer != None:\n",
        "      if pointer.data == search_data:\n",
        "        keyNode = pointer\n",
        "        break\n",
        "      pointer = pointer.next\n",
        "    return keyNode\n",
        "\n",
        "  def insert_at_middle(self, data, prev_data):\n",
        "    new_node = Node(data)\n",
        "    pointer_node = self.search_node_from_data(prev_data)\n",
        "    next_pointer = pointer_node.next\n",
        "    pointer_node.next = new_node\n",
        "    new_node.prev = pointer_node\n",
        "    new_node.next = next_pointer\n",
        "    next_pointer.prev = new_node\n",
        "\n",
        "  def delete_in_middle(self, data_delete):\n",
        "    pointer_node = self.search_node_from_data(data_delete)\n",
        "    prev_pointer = pointer_node.prev\n",
        "    next_pointer = pointer_node.next\n",
        "    prev_pointer.next = next_pointer\n",
        "    next_pointer.prev = prev_pointer\n",
        "\n",
        "  def insert_at_end(self, data):\n",
        "    new_node =  Node(data)\n",
        "    pointer = self.head\n",
        "    if self.head == None:\n",
        "      self.head = new_node\n",
        "    while pointer.next != None:\n",
        "      pointer = pointer.next\n",
        "    pointer.next = new_node\n",
        "    new_node.prev = pointer\n",
        "\n",
        "  def delete_at_end(self):\n",
        "    pointer = self.head\n",
        "    next_pointer = pointer.next\n",
        "    while next_pointer.next != None:\n",
        "      pointer = pointer.next\n",
        "      next_pointer = next_pointer.next\n",
        "    pointer.next = None\n",
        "    next_pointer.prev = None\n",
        "\n",
        "  def print_data(self):\n",
        "    pointer = self.head\n",
        "    while pointer != None:\n",
        "      print(pointer.data, end = \" \")\n",
        "      pointer = pointer.next\n"
      ],
      "metadata": {
        "id": "-e3cVUDwHwIG"
      },
      "execution_count": null,
      "outputs": []
    },
    {
      "cell_type": "code",
      "source": [
        "# create an object for doubly linked list\n",
        "dl = doubly_linked_list()\n",
        "\n",
        "# add initial nodes\n",
        "for i in range(1,6):\n",
        "  dl.insert_at_start(i)\n",
        "dl.print_data()\n",
        "print('\\n')\n",
        "\n",
        "# insert at beginning\n",
        "dl.insert_at_start(55)\n",
        "dl.print_data()\n",
        "print('\\n')\n",
        "\n",
        "# delete at start\n",
        "dl.delete_at_start()\n",
        "dl.print_data()\n",
        "print('\\n')\n",
        "\n",
        "# insert at middle\n",
        "dl.insert_at_middle(567, 3)\n",
        "dl.print_data()\n",
        "print('\\n')\n",
        "\n",
        "# delete node in middle\n",
        "dl.delete_in_middle(3)\n",
        "dl.print_data()\n",
        "print('\\n')\n",
        "\n",
        "# insert node in end\n",
        "dl.insert_at_end(89)\n",
        "dl.print_data()\n",
        "print('\\n')\n",
        "\n",
        "# delete node in end\n",
        "dl.delete_at_end()\n",
        "dl.print_data()\n",
        "print('\\n')"
      ],
      "metadata": {
        "id": "mQsHuJB0RCXv",
        "colab": {
          "base_uri": "https://localhost:8080/"
        },
        "outputId": "e6005c2d-6e2c-4d50-c56f-e043321f5ab8"
      },
      "execution_count": null,
      "outputs": [
        {
          "output_type": "stream",
          "name": "stdout",
          "text": [
            "5 4 3 2 1 \n",
            "\n",
            "55 5 4 3 2 1 \n",
            "\n",
            "5 4 3 2 1 \n",
            "\n",
            "5 4 3 567 2 1 \n",
            "\n",
            "5 4 567 2 1 \n",
            "\n",
            "5 4 567 2 1 89 \n",
            "\n",
            "5 4 567 2 1 \n",
            "\n"
          ]
        }
      ]
    },
    {
      "cell_type": "markdown",
      "source": [
        "## Circular Linked List"
      ],
      "metadata": {
        "id": "OO-0Sdke60PT"
      }
    },
    {
      "cell_type": "code",
      "source": [
        "\n",
        "class Node():\n",
        "  def __init__(self, data):\n",
        "    self.data = data\n",
        "    self.last = None\n",
        "\n",
        "class circularLinkedList():\n",
        "  def __init__(self):\n",
        "    self.last = None\n",
        "\n",
        "  def insert_node_at_start(self, data):\n",
        "    new_node = Node(data)\n",
        "    if self.last == None:\n",
        "      self.last = new_node\n",
        "      new_node.next = self.last\n",
        "    else:\n",
        "      new_node.next = self.last.next\n",
        "      self.last.next = new_node\n",
        "\n",
        "  def delete_at_start(self):\n",
        "    last_node = self.last\n",
        "    pointer = self.last.next\n",
        "    if self.last == None:\n",
        "      return None\n",
        "    else:\n",
        "      last_node.next = pointer.next\n",
        "\n",
        "  def search_node_with_data(self, search_data):\n",
        "    if self.last == None:\n",
        "      return None\n",
        "    pointer = self.last.next\n",
        "    keyNode = None\n",
        "    while 1:\n",
        "      if pointer.data == search_data:\n",
        "        keyNode = pointer\n",
        "        break\n",
        "      if pointer == self.last:\n",
        "        break\n",
        "      pointer = pointer.next\n",
        "    return keyNode\n",
        "\n",
        "\n",
        "  def insert_in_middle(self, data, prev_data):\n",
        "    new_node = Node(data)\n",
        "    pointer = self.search_node_with_data(prev_data)\n",
        "    new_node.next = pointer.next\n",
        "    pointer.next = new_node\n",
        "\n",
        "\n",
        "  def delete_in_middle(self, data):\n",
        "    pointer = self.last.next\n",
        "    if self.last == None:\n",
        "      return None\n",
        "    else:\n",
        "      prev_node = None\n",
        "      while pointer.data != data:\n",
        "        prev_node = pointer\n",
        "        pointer = pointer.next\n",
        "      prev_node.next = pointer.next\n",
        "\n",
        "\n",
        "  def insert_in_end(self, data):\n",
        "    new_node = Node(data)\n",
        "    pointer = self.last.next\n",
        "    if self.last == None:\n",
        "      self.last = new_node\n",
        "      new_node.next = new_node\n",
        "    else:\n",
        "      while 1:\n",
        "        while pointer != self.last:\n",
        "          pointer = pointer.next\n",
        "        new_node.next = pointer.next\n",
        "        pointer.next = new_node\n",
        "        self.last = new_node\n",
        "        break\n",
        "\n",
        "\n",
        "  def delete_in_end(self):\n",
        "    if self.last == None:\n",
        "      return None\n",
        "    if self.last.next == self.last:\n",
        "      self.last = None\n",
        "    else:\n",
        "      pointer = self.last.next\n",
        "      while pointer.next != self.last:\n",
        "        pointer = pointer.next\n",
        "      pointer.next = self.last.next\n",
        "      self.last = pointer\n",
        "\n",
        "\n",
        "  def print_list(self):\n",
        "    pointer = self.last.next\n",
        "    if pointer == None:\n",
        "      return None\n",
        "    else:\n",
        "      while 1:\n",
        "        print(pointer.data, end = \" \")\n",
        "        if pointer == self.last:\n",
        "          break\n",
        "        pointer = pointer.next\n"
      ],
      "metadata": {
        "id": "wU95onO2RZSt"
      },
      "execution_count": null,
      "outputs": []
    },
    {
      "cell_type": "code",
      "source": [
        "cl = circularLinkedList()\n",
        "for i in range(1,6):\n",
        "  cl.insert_node_at_start(i)\n",
        "cl.print_list()\n",
        "print('\\n')\n",
        "\n",
        "\n",
        "#insert at start\n",
        "cl.insert_node_at_start(56)\n",
        "cl.print_list()\n",
        "print('\\n')\n",
        "\n",
        "#delete at start\n",
        "cl.delete_at_start()\n",
        "cl.print_list()\n",
        "print('\\n')\n",
        "\n",
        "#insert at middle\n",
        "cl.insert_in_middle(456, 3)\n",
        "cl.print_list()\n",
        "print('\\n')\n",
        "\n",
        "# delete in middle\n",
        "cl.delete_in_middle(456)\n",
        "cl.print_list()\n",
        "print('\\n')\n",
        "\n",
        "# insert in end\n",
        "cl.insert_in_end(678)\n",
        "cl.print_list()\n",
        "print('\\n')\n",
        "\n",
        "# delete in end\n",
        "cl.delete_in_end()\n",
        "cl.print_list()\n",
        "print('\\n')"
      ],
      "metadata": {
        "id": "n9ZBR3axmegU",
        "colab": {
          "base_uri": "https://localhost:8080/"
        },
        "outputId": "0dba7bdf-de30-4643-999d-222f93a8afc8"
      },
      "execution_count": null,
      "outputs": [
        {
          "output_type": "stream",
          "name": "stdout",
          "text": [
            "5 4 3 2 1 \n",
            "\n",
            "56 5 4 3 2 1 \n",
            "\n",
            "5 4 3 2 1 \n",
            "\n",
            "5 4 3 456 2 1 \n",
            "\n",
            "5 4 3 2 1 \n",
            "\n",
            "5 4 3 2 1 678 \n",
            "\n",
            "5 4 3 2 1 \n",
            "\n"
          ]
        }
      ]
    },
    {
      "cell_type": "markdown",
      "source": [
        "## merge two sorted linked list"
      ],
      "metadata": {
        "id": "q4s7GktWN08E"
      }
    },
    {
      "cell_type": "code",
      "source": [
        "class Node:\n",
        "  def __init__(self, data):\n",
        "    self.data = data\n",
        "    self.next = None\n",
        "\n",
        "class LinkedList:\n",
        "  def __init__(self):\n",
        "    self.head = None\n",
        "\n",
        "  def insertAtEnd(self, data):\n",
        "    new_node = Node(data)\n",
        "    pointer = self.head\n",
        "    if self.head == None:\n",
        "      self.head = new_node\n",
        "      return\n",
        "    while pointer.next != None:\n",
        "      pointer = pointer.next\n",
        "    pointer.next = new_node\n",
        "\n",
        "  def print(self):\n",
        "    pointer = self.head\n",
        "    while pointer != None:\n",
        "      print(pointer.data, end=' ')\n",
        "      pointer = pointer.next\n",
        "\n",
        "\n",
        "# merge sorted linked list\n",
        "def mergesorted(head1, head2):\n",
        "  sorted_list = LinkedList()\n",
        "  if l1.head == None:\n",
        "    sorted_list.head = head2\n",
        "  elif l2.head == None:\n",
        "    sorted_list.head = head1\n",
        "  else:\n",
        "    if head1.data <= head2.data:\n",
        "      sorted_list.head = head1\n",
        "      head1 = head1.next\n",
        "    else:\n",
        "      sorted_list.head = head2\n",
        "      head2 = head2.next\n",
        "\n",
        "  sorted_head_pointer = sorted_list.head\n",
        "  while head1 and head2:\n",
        "    if head1.data <= head2.data:\n",
        "      sorted_head_pointer.next = head1\n",
        "      sorted_head_pointer = sorted_head_pointer.next\n",
        "      head1 = head1.next\n",
        "    else:\n",
        "      sorted_head_pointer.next = head2\n",
        "      sorted_head_pointer = sorted_head_pointer.next\n",
        "      head2 = head2.next\n",
        "\n",
        "  if head1 == None:\n",
        "    sorted_head_pointer.next = head2\n",
        "  if head2 == None:\n",
        "    sorted_head_pointer.next = head1\n",
        "\n",
        "  return sorted_list\n",
        "\n",
        "\n",
        "\n",
        "\n",
        "l1 = LinkedList()\n",
        "node_val_1 = [1,5,8,12]\n",
        "for i in node_val_1:\n",
        "  l1.insertAtEnd(i)\n",
        "print(\"List 1\")\n",
        "l1.print()\n",
        "print('\\n')\n",
        "\n",
        "l2 = LinkedList()\n",
        "node_val_2 = [3,4,9,19]\n",
        "for i in node_val_2:\n",
        "  l2.insertAtEnd(i)\n",
        "print(\"List 2\")\n",
        "l2.print()\n",
        "print('\\n')\n",
        "\n",
        "sorted_list = mergesorted(l1.head, l2.head)\n",
        "print(\"Merged Linked List\")\n",
        "sorted_list.print()\n"
      ],
      "metadata": {
        "id": "8Gfap3u_9MEY",
        "colab": {
          "base_uri": "https://localhost:8080/"
        },
        "outputId": "43bf51b6-249b-4dad-bf9b-c61e0145212c"
      },
      "execution_count": null,
      "outputs": [
        {
          "output_type": "stream",
          "name": "stdout",
          "text": [
            "List 1\n",
            "1 5 8 12 \n",
            "\n",
            "List 2\n",
            "3 4 9 19 \n",
            "\n",
            "Merged Linked List\n",
            "1 3 4 5 8 9 12 19 "
          ]
        }
      ]
    },
    {
      "cell_type": "markdown",
      "source": [
        "## Reverse Linked List iteratively"
      ],
      "metadata": {
        "id": "OyQcJcIsUex7"
      }
    },
    {
      "cell_type": "code",
      "source": [
        "class Node:\n",
        "  def __init__(self, data):\n",
        "    self.data = data\n",
        "    self.next = None\n",
        "\n",
        "class LinkedList:\n",
        "  def __init__(self):\n",
        "    self.head = None\n",
        "\n",
        "  def insertAtEnd(self, data):\n",
        "    new_node = Node(data)\n",
        "    pointer = self.head\n",
        "    if self.head == None:\n",
        "      self.head = new_node\n",
        "      return\n",
        "    while pointer.next != None:\n",
        "      pointer = pointer.next\n",
        "    pointer.next = new_node\n",
        "\n",
        "  def print(self):\n",
        "    pointer = self.head\n",
        "    while pointer != None:\n",
        "      print(pointer.data, end=' ')\n",
        "      pointer = pointer.next\n",
        "\n",
        "  def reverse_linked_list(self):\n",
        "    pointer = self.head\n",
        "    prev_pointer = None\n",
        "    next_pointer = None\n",
        "    while pointer != None:\n",
        "      next_pointer = pointer.next\n",
        "      pointer.next = prev_pointer\n",
        "      prev_pointer = pointer\n",
        "      pointer = next_pointer\n",
        "    self.head = prev_pointer\n",
        "\n",
        "\n",
        "ll = LinkedList()\n",
        "for i in range(1,6):\n",
        "  ll.insertAtEnd(i)\n",
        "print(\"Linked List\")\n",
        "ll.print()\n",
        "print('\\n')\n",
        "\n",
        "ll.reverse_linked_list()\n",
        "print(\"Reversed Linked List\")\n",
        "ll.print()\n",
        "\n"
      ],
      "metadata": {
        "id": "9PM0UklFUd-_",
        "colab": {
          "base_uri": "https://localhost:8080/"
        },
        "outputId": "e326af2c-806a-4af2-f43a-ff75d888f9be"
      },
      "execution_count": null,
      "outputs": [
        {
          "output_type": "stream",
          "name": "stdout",
          "text": [
            "Linked List\n",
            "1 2 3 4 5 \n",
            "\n",
            "Reversed Linked List\n",
            "5 4 3 2 1 "
          ]
        }
      ]
    },
    {
      "cell_type": "code",
      "source": [
        "## Reverse Linked List Recursively"
      ],
      "metadata": {
        "id": "PmORgU471dcl"
      },
      "execution_count": null,
      "outputs": []
    },
    {
      "cell_type": "code",
      "source": [
        "class Node:\n",
        "  def __init__(self, data):\n",
        "    self.data = data\n",
        "    self.next = None\n",
        "\n",
        "class LinkedList:\n",
        "  def __init__(self):\n",
        "    self.head = None\n",
        "\n",
        "  def insertAtEnd(self, data):\n",
        "    new_node = Node(data)\n",
        "    pointer = self.head\n",
        "    if self.head == None:\n",
        "      self.head = new_node\n",
        "      return\n",
        "    while pointer.next != None:\n",
        "      pointer = pointer.next\n",
        "    pointer.next = new_node\n",
        "\n",
        "  def print(self):\n",
        "    pointer = self.head\n",
        "    while pointer != None:\n",
        "      print(pointer.data, end=' ')\n",
        "      pointer = pointer.next\n",
        "\n",
        "  def reverse(self, head):\n",
        "    if head == None or head.next == None:\n",
        "      return head\n",
        "    res = self.reverse(head.next)\n",
        "    head.next.next = head\n",
        "    head.next = None\n",
        "    return res\n",
        "\n",
        "\n",
        "ll = LinkedList()\n",
        "for i in range(1,6):\n",
        "  ll.insertAtEnd(i)\n",
        "print(\"Linked List\")\n",
        "ll.print()\n",
        "print('\\n')\n",
        "\n",
        "ll.head = ll.reverse(ll.head)\n",
        "print(\"Reversed Linked List\")\n",
        "ll.print()\n",
        "\n"
      ],
      "metadata": {
        "id": "sMcpsQnddkAs",
        "colab": {
          "base_uri": "https://localhost:8080/"
        },
        "outputId": "690721cc-4576-49e7-ad72-948cc6f7df05"
      },
      "execution_count": null,
      "outputs": [
        {
          "output_type": "stream",
          "name": "stdout",
          "text": [
            "Linked List\n",
            "1 2 3 4 5 \n",
            "\n",
            "Reversed Linked List\n",
            "5 4 3 2 1 "
          ]
        }
      ]
    },
    {
      "cell_type": "markdown",
      "source": [
        "## Check for loop using hashing"
      ],
      "metadata": {
        "id": "ZYQcfgPfUDkC"
      }
    },
    {
      "cell_type": "code",
      "source": [
        "class Node:\n",
        "  def __init__(self, data):\n",
        "    self.data = data\n",
        "    self.next = None\n",
        "\n",
        "class LinkedList:\n",
        "  def __init__(self):\n",
        "    self.head = None\n",
        "\n",
        "  def check_loop(self):\n",
        "    hash = {}\n",
        "    pointer = self.head\n",
        "    loopNode = None\n",
        "    while pointer!= None:\n",
        "      if pointer not in hash:\n",
        "        hash[pointer] = True\n",
        "      else:\n",
        "        loopNode = pointer\n",
        "        break\n",
        "    return loopNode, loopNode.data\n",
        "\n",
        "\n",
        "l = LinkedList()\n",
        "l.head = Node(5)\n",
        "l.head.next = Node(1)\n",
        "l.head.next.next = Node(6)\n",
        "p = l.head.next.next\n",
        "l.head.next.next.next = Node(7)\n",
        "l.head.next.next.next.next = Node(8)\n",
        "l.head.next.next.next.next.next = p\n",
        "\n",
        "loopNode = l.check_loop()\n",
        "print(loopNode)\n",
        "\n",
        "\n"
      ],
      "metadata": {
        "id": "doFLVOszignL",
        "colab": {
          "base_uri": "https://localhost:8080/"
        },
        "outputId": "471b79c1-10ef-4bd7-f1dc-e6ec15cd8b45"
      },
      "execution_count": null,
      "outputs": [
        {
          "output_type": "stream",
          "name": "stdout",
          "text": [
            "(<__main__.Node object at 0x795d1c138130>, 5)\n"
          ]
        }
      ]
    },
    {
      "cell_type": "markdown",
      "source": [
        "## Check for loop using Tortoise & Hare Method\n",
        "\n",
        "- there are two pointers slow and fast\n",
        "- slow is incremented by 1 pointer\n",
        "- slow is incremented by 2 pointer\n",
        "- If slow = fast then there is a loop\n",
        "- If slow or fast is None at some point then there is no loop\n",
        "\n",
        "<img src=\"https://lh7-us.googleusercontent.com/OBaAyw-J0aKk5xBfOMMc3Ln9R8Gf8OE6GzC5mVKj6GFRLn_x3EvlaBYAlYG2kQdyEPR6T48c8wrHBdXTsnJ0DdW0LulC1qUioQoHLLd2OMIbF9NVIuiEuGAgK50vravsuluCHEBCE1ha4XRryI0s6jo\">"
      ],
      "metadata": {
        "id": "Wbw0_-CdaxhA"
      }
    },
    {
      "cell_type": "code",
      "source": [
        "class Node:\n",
        "  def __init__(self, data):\n",
        "    self.data = data\n",
        "    self.next = None\n",
        "\n",
        "class LinkedList:\n",
        "  def __init__(self):\n",
        "    self.head = None\n",
        "\n",
        "  def check_loop(self):\n",
        "    slow = self.head\n",
        "    fast = self.head\n",
        "    loopNode = None\n",
        "    while slow!= None or fast!=None:\n",
        "      slow = slow.next\n",
        "      fast = fast.next.next\n",
        "      if slow == fast:\n",
        "        loopNode = slow\n",
        "        break\n",
        "    return loopNode, loopNode.data\n",
        "\n",
        "\n",
        "l = LinkedList()\n",
        "l.head = Node(5)\n",
        "l.head.next = Node(1)\n",
        "l.head.next.next = Node(6)\n",
        "p = l.head.next.next\n",
        "l.head.next.next.next = Node(7)\n",
        "l.head.next.next.next.next = Node(8)\n",
        "l.head.next.next.next.next.next = p\n",
        "\n",
        "loopNode = l.check_loop()\n",
        "print(loopNode)\n",
        "\n",
        "\n"
      ],
      "metadata": {
        "colab": {
          "base_uri": "https://localhost:8080/"
        },
        "id": "9rAUDMBpWMCX",
        "outputId": "2d9c9fc0-22c9-42e0-aead-e610cef64f85"
      },
      "execution_count": null,
      "outputs": [
        {
          "output_type": "stream",
          "name": "stdout",
          "text": [
            "(<__main__.Node object at 0x795d1c139cf0>, 7)\n"
          ]
        }
      ]
    },
    {
      "cell_type": "markdown",
      "source": [
        "## Check for the start of a loop"
      ],
      "metadata": {
        "id": "NT0zBTAsf7r-"
      }
    },
    {
      "cell_type": "code",
      "source": [
        "class Node:\n",
        "  def __init__(self, data):\n",
        "    self.data = data\n",
        "    self.next = None\n",
        "\n",
        "class LinkedList:\n",
        "  def __init__(self):\n",
        "    self.head = None\n",
        "\n",
        "  def check_loop(self):\n",
        "    slow = self.head\n",
        "    fast = self.head\n",
        "    loop_node = None\n",
        "    while slow != None and fast != None:\n",
        "      slow = slow.next\n",
        "      fast = fast.next.next\n",
        "      if slow == fast:\n",
        "        loop_node = slow\n",
        "        break\n",
        "    return loop_node\n",
        "\n",
        "  def start_of_loop(self):\n",
        "      pointer = self.head\n",
        "      loop_node = self.check_loop()\n",
        "      while pointer != loop_node:\n",
        "        pointer = pointer.next\n",
        "        loop_node = loop_node.next\n",
        "      return loop_node , loop_node.data\n",
        "\n",
        "\n",
        "l = LinkedList()\n",
        "l.head = Node(5)\n",
        "l.head.next = Node(1)\n",
        "l.head.next.next = Node(6)\n",
        "p = l.head.next.next\n",
        "l.head.next.next.next = Node(7)\n",
        "l.head.next.next.next.next = Node(8)\n",
        "l.head.next.next.next.next.next = p\n",
        "\n",
        "loopNode = l.check_loop()\n",
        "start_loop_node = l.start_of_loop()\n",
        "print(start_loop_node)\n",
        "\n",
        "\n"
      ],
      "metadata": {
        "colab": {
          "base_uri": "https://localhost:8080/"
        },
        "id": "SjqyPQnaf_ho",
        "outputId": "7b45fce3-4b95-43e6-f4f3-cea52b377509"
      },
      "execution_count": null,
      "outputs": [
        {
          "output_type": "stream",
          "name": "stdout",
          "text": [
            "(<__main__.Node object at 0x795d1c128ee0>, 6)\n"
          ]
        }
      ]
    },
    {
      "cell_type": "markdown",
      "source": [
        "## Length of Loop"
      ],
      "metadata": {
        "id": "Fm8FWEfSqTux"
      }
    },
    {
      "cell_type": "code",
      "source": [
        "class Node:\n",
        "  def __init__(self, data):\n",
        "    self.data = data\n",
        "    self.next = None\n",
        "\n",
        "class LinkedList:\n",
        "  def __init__(self):\n",
        "    self.head = None\n",
        "\n",
        "  def length_loop(self):\n",
        "    slow = self.head\n",
        "    fast = self.head\n",
        "    loop_node = None\n",
        "    length = 0\n",
        "    while slow != None and fast != None:\n",
        "      slow = slow.next\n",
        "      fast = fast.next.next\n",
        "      if slow == fast:\n",
        "        loop_node = slow\n",
        "        break\n",
        "    while slow != None:\n",
        "      slow = slow.next\n",
        "      length = length + 1\n",
        "      if loop_node == slow:\n",
        "        break\n",
        "    return length\n",
        "\n",
        "l = LinkedList()\n",
        "l.head = Node(5)\n",
        "l.head.next = Node(1)\n",
        "l.head.next.next = Node(6)\n",
        "p = l.head.next.next\n",
        "l.head.next.next.next = Node(7)\n",
        "l.head.next.next.next.next = Node(8)\n",
        "l.head.next.next.next.next.next = p\n",
        "\n",
        "length_loop= l.length_loop()\n",
        "print(length_loop)\n",
        "\n"
      ],
      "metadata": {
        "colab": {
          "base_uri": "https://localhost:8080/"
        },
        "id": "WmX7Y6zaqVRb",
        "outputId": "eb0ff764-ea61-4e0e-e545-e2dd0c2323b4"
      },
      "execution_count": null,
      "outputs": [
        {
          "output_type": "stream",
          "name": "stdout",
          "text": [
            "3\n"
          ]
        }
      ]
    },
    {
      "cell_type": "markdown",
      "source": [
        "## middle element of Linked List"
      ],
      "metadata": {
        "id": "ojaiZ86htHlS"
      }
    },
    {
      "cell_type": "code",
      "source": [
        "class Node:\n",
        "  def __init__(self, data):\n",
        "    self.data = data\n",
        "    self.next = None\n",
        "\n",
        "class LinkedList:\n",
        "  def __init__(self):\n",
        "    self.head = None\n",
        "\n",
        "  def insertAtEnd(self, data):\n",
        "    new_node = Node(data)\n",
        "    pointer = self.head\n",
        "    if self.head == None:\n",
        "      self.head = new_node\n",
        "      return\n",
        "    while pointer.next != None:\n",
        "      pointer = pointer.next\n",
        "    pointer.next = new_node\n",
        "\n",
        "  def print(self):\n",
        "    pointer = self.head\n",
        "    while pointer != None:\n",
        "      print(pointer.data, end=' ')\n",
        "      pointer = pointer.next\n",
        "\n",
        "  def find_length(self):\n",
        "    pointer = self.head\n",
        "    length = 0\n",
        "    while pointer != None:\n",
        "      length = length + 1\n",
        "      pointer = pointer.next\n",
        "    return length\n",
        "\n",
        "  def remove_first(self):\n",
        "    pointer = self.head\n",
        "    self.head = pointer.next\n",
        "\n",
        "  def remove_last(self):\n",
        "    pointer = self.head\n",
        "    while pointer.next.next != None:\n",
        "      pointer = pointer.next\n",
        "    pointer.next = None\n",
        "\n",
        "  def find_middle(self):\n",
        "    if self.find_length() % 2 == 1:\n",
        "      while self.find_length() != 1:\n",
        "        self.remove_first()\n",
        "        self.remove_last()\n",
        "      return self.head\n",
        "    else:\n",
        "      while self.find_length() != 2:\n",
        "        self.remove_first()\n",
        "        self.remove_last()\n",
        "      self.head =  self.head.next\n",
        "      return self.head\n",
        "\n",
        "\n",
        "\n",
        "l1 = LinkedList()\n",
        "for i in range(1,6):\n",
        "  l1.insertAtEnd(i)\n",
        "l1.print()\n",
        "print('\\n')\n",
        "\n",
        "l1.find_middle()\n",
        "l1.print()\n",
        "print('\\n')\n",
        "\n",
        "l2 = LinkedList()\n",
        "for i in range(1,7):\n",
        "  l2.insertAtEnd(i)\n",
        "l2.print()\n",
        "print('\\n')\n",
        "\n",
        "l2.find_middle()\n",
        "l2.print()\n",
        "print('\\n')\n",
        "\n"
      ],
      "metadata": {
        "colab": {
          "base_uri": "https://localhost:8080/"
        },
        "id": "TGCXxc4irwjk",
        "outputId": "4a6613f7-9b22-40c1-d4fa-e7b2391fab29"
      },
      "execution_count": null,
      "outputs": [
        {
          "output_type": "stream",
          "name": "stdout",
          "text": [
            "1 2 3 4 5 \n",
            "\n",
            "3 \n",
            "\n",
            "1 2 3 4 5 6 \n",
            "\n",
            "4 \n",
            "\n"
          ]
        }
      ]
    },
    {
      "cell_type": "markdown",
      "source": [
        "## find duplicate data in a linked list"
      ],
      "metadata": {
        "id": "3tnYssQUINXr"
      }
    },
    {
      "cell_type": "code",
      "source": [],
      "metadata": {
        "id": "yF7o9Dszusgj"
      },
      "execution_count": null,
      "outputs": []
    },
    {
      "cell_type": "code",
      "source": [
        "def find_duplicates():\n",
        "  pointer = l.head\n",
        "  dup_pointer = l.head\n",
        "  duplicate_node = None\n",
        "  while pointer.next != None:\n",
        "    while dup_pointer.next != None:\n",
        "      if pointer.data == dup_pointer.data:\n",
        "        duplicate_node = pointer\n",
        "        break\n",
        "      dup_pointer = dup_pointer.next\n",
        "      break\n",
        "    pointer = pointer.next\n",
        "  return duplicate_node, duplicate_node.data\n",
        "\n",
        "l = LinkedList()\n",
        "duplicate_l = LinkedList()\n",
        "l.head = Node(5)\n",
        "l.head.next = Node(1)\n",
        "l.head.next.next = Node(5)\n",
        "l.head.next.next.next = Node(7)\n",
        "l.head.next.next.next.next = Node(8)\n",
        "\n",
        "l.print()\n",
        "print('\\n')\n",
        "\n",
        "print(find_duplicates())"
      ],
      "metadata": {
        "colab": {
          "base_uri": "https://localhost:8080/"
        },
        "id": "54-DFWyVI1PH",
        "outputId": "41f0be2d-6f8b-4f3f-f4d9-09813b063649"
      },
      "execution_count": null,
      "outputs": [
        {
          "output_type": "stream",
          "name": "stdout",
          "text": [
            "5 1 5 7 8 \n",
            "\n",
            "(<__main__.Node object at 0x795d1c12bdc0>, 5)\n"
          ]
        }
      ]
    },
    {
      "cell_type": "markdown",
      "source": [
        "## remove duplicate data from a linked list"
      ],
      "metadata": {
        "id": "hQc5bsYWQYdL"
      }
    },
    {
      "cell_type": "code",
      "source": [
        "class Node:\n",
        "  def __init__(self, data):\n",
        "    self.data = data\n",
        "    self.next = None\n",
        "\n",
        "class LinkedList:\n",
        "  def __init__(self):\n",
        "    self.head = None\n",
        "\n",
        "  def print(self):\n",
        "    pointer = self.head\n",
        "    while pointer != None:\n",
        "      print(pointer.data, end=' ')\n",
        "      pointer = pointer.next\n",
        "\n",
        "  def remove_element(self, node_delete):\n",
        "    prev_pointer = self.head\n",
        "    pointer = self.head.next\n",
        "    delete_node = None\n",
        "    while pointer.next != None:\n",
        "      if pointer.data == node_delete:\n",
        "        delete_node = pointer\n",
        "        break\n",
        "      prev_pointer = pointer\n",
        "      pointer = pointer.next\n",
        "    prev_pointer.next = pointer.next\n",
        "\n",
        "\n",
        "  def find_duplicates(self):\n",
        "    pointer = self.head\n",
        "    dup_pointer = self.head\n",
        "    duplicate_node = None\n",
        "    while pointer.next != None:\n",
        "      while dup_pointer.next != None:\n",
        "        if pointer.data == dup_pointer.data:\n",
        "          duplicate_node = pointer\n",
        "          break\n",
        "        dup_pointer = dup_pointer.next\n",
        "        break\n",
        "      pointer = pointer.next\n",
        "    return duplicate_node.data\n",
        "\n",
        "\n",
        "\n",
        "del_l = LinkedList()\n",
        "del_l.head = Node(5)\n",
        "del_l.head.next = Node(1)\n",
        "del_l.head.next.next = Node(5)\n",
        "del_l.head.next.next.next = Node(7)\n",
        "del_l.head.next.next.next.next = Node(8)\n",
        "\n",
        "# del_l.remove_element(5)\n",
        "del_l.print()\n",
        "print('\\n')\n",
        "\n",
        "print(del_l.find_duplicates())\n",
        "print('\\n')\n",
        "\n",
        "# remove duplicate element\n",
        "del_l.remove_element(del_l.find_duplicates())\n",
        "del_l.print()\n"
      ],
      "metadata": {
        "colab": {
          "base_uri": "https://localhost:8080/"
        },
        "id": "Dz4ErRUwNIxf",
        "outputId": "9a3960ae-45c0-4c40-9f33-6c65b54b9e18"
      },
      "execution_count": null,
      "outputs": [
        {
          "output_type": "stream",
          "name": "stdout",
          "text": [
            "5 1 5 7 8 \n",
            "\n",
            "5\n",
            "\n",
            "\n",
            "5 1 7 8 "
          ]
        }
      ]
    },
    {
      "cell_type": "code",
      "source": [
        "sorted_del_l = LinkedList()\n",
        "sorted_del_l.head = Node(1)\n",
        "sorted_del_l.head.next = Node(1)\n",
        "sorted_del_l.head.next.next = Node(5)\n",
        "sorted_del_l.head.next.next.next = Node(7)\n",
        "sorted_del_l.head.next.next.next.next = Node(8)\n",
        "\n",
        "sorted_del_l.print()\n",
        "print('\\n')\n",
        "\n",
        "print(sorted_del_l.find_duplicates())\n",
        "print('\\n')\n",
        "\n",
        "# remove duplicate element\n",
        "\n",
        "sorted_del_l.remove_element(sorted_del_l.find_duplicates())\n",
        "sorted_del_l.print()\n"
      ],
      "metadata": {
        "id": "MUOWDHK0TKuF",
        "colab": {
          "base_uri": "https://localhost:8080/"
        },
        "outputId": "bc61ee7e-c23d-497c-eb78-e957120d2dcc"
      },
      "execution_count": null,
      "outputs": [
        {
          "output_type": "stream",
          "name": "stdout",
          "text": [
            "1 1 5 7 8 \n",
            "\n",
            "1\n",
            "\n",
            "\n",
            "1 5 7 8 "
          ]
        }
      ]
    },
    {
      "cell_type": "markdown",
      "source": [
        "## delete node without head"
      ],
      "metadata": {
        "id": "bpL2qciPaEQN"
      }
    },
    {
      "cell_type": "code",
      "source": [
        "class Node:\n",
        "  def __init__(self, data):\n",
        "    self.data = data\n",
        "    self.next = None\n",
        "\n",
        "class LinkedList:\n",
        "  def __init__(self):\n",
        "    self.head = None\n",
        "\n",
        "  def insertAtEnd(self, data):\n",
        "    new_node = Node(data)\n",
        "    pointer = self.head\n",
        "    if self.head == None:\n",
        "      self.head = new_node\n",
        "      return\n",
        "    while pointer.next != None:\n",
        "      pointer = pointer.next\n",
        "    pointer.next = new_node\n",
        "\n",
        "  def print(self):\n",
        "    pointer = self.head\n",
        "    while pointer != None:\n",
        "      print(pointer.data, end=' ')\n",
        "      pointer = pointer.next\n",
        "\n",
        "  def search_data(self, search_data):\n",
        "    pointer = self.head\n",
        "    keyNode = Node\n",
        "    while pointer.next != None:\n",
        "      if pointer.data == search_data:\n",
        "        keyNode = pointer\n",
        "      pointer = pointer.next\n",
        "    return keyNode\n",
        "\n",
        "\n",
        "  def delete(self, node):\n",
        "    node = self.search_data(node)\n",
        "    if node == None:\n",
        "      return None\n",
        "    node.data = node.next.data\n",
        "    node.next = node.next.next\n",
        "\n",
        "\n",
        "l = LinkedList()\n",
        "for i in range(1,6):\n",
        "  l.insertAtEnd(i)\n",
        "l.print()\n",
        "print('\\n')\n",
        "\n",
        "l.delete(3)\n",
        "l.print()\n",
        "print('\\n')\n"
      ],
      "metadata": {
        "colab": {
          "base_uri": "https://localhost:8080/"
        },
        "id": "-oP3tY4rTt4x",
        "outputId": "4fab6ae0-1b58-4816-d303-58635e65111c"
      },
      "execution_count": null,
      "outputs": [
        {
          "output_type": "stream",
          "name": "stdout",
          "text": [
            "1 2 3 4 5 \n",
            "\n",
            "1 2 4 5 \n",
            "\n"
          ]
        }
      ]
    },
    {
      "cell_type": "markdown",
      "source": [
        "# Count the number of occurances of a node element"
      ],
      "metadata": {
        "id": "_rcobGuyjJ6s"
      }
    },
    {
      "cell_type": "code",
      "source": [
        "class Node:\n",
        "  def __init__(self, data):\n",
        "    self.data = data\n",
        "    self.next = None\n",
        "\n",
        "class LinkedList:\n",
        "  def __init__(self):\n",
        "    self.head = None\n",
        "\n",
        "  def print(self):\n",
        "    pointer = self.head\n",
        "    while pointer != None:\n",
        "      print(pointer.data, end=' ')\n",
        "      pointer = pointer.next\n",
        "\n",
        "\n",
        "  def count_elements(self):\n",
        "    p = self.head\n",
        "    dictt = {}\n",
        "    while p != None:\n",
        "      if p.data not in dictt:\n",
        "        dictt[p.data] = 1\n",
        "      else:\n",
        "        dictt[p.data] = dictt[p.data] + 1\n",
        "      p = p.next\n",
        "    return dictt\n",
        "\n",
        "\n",
        "\n",
        "l = LinkedList()\n",
        "l.head = Node(1)\n",
        "l.head.next = Node(1)\n",
        "l.head.next.next = Node(5)\n",
        "l.head.next.next.next = Node(7)\n",
        "l.head.next.next.next.next = Node(7)\n",
        "\n",
        "l.print()\n",
        "print('\\n')\n",
        "\n",
        "print(l.count_elements())\n",
        "print('\\n')"
      ],
      "metadata": {
        "colab": {
          "base_uri": "https://localhost:8080/"
        },
        "id": "WPw0rGYYb1Lk",
        "outputId": "6238d206-94f7-4682-a30c-2ce6b40d0944"
      },
      "execution_count": null,
      "outputs": [
        {
          "output_type": "stream",
          "name": "stdout",
          "text": [
            "1 1 5 7 7 \n",
            "\n",
            "{1: 2, 5: 1, 7: 2}\n",
            "\n",
            "\n"
          ]
        }
      ]
    },
    {
      "cell_type": "markdown",
      "source": [
        "Check if linked list has even / odd elements without traversing"
      ],
      "metadata": {
        "id": "FVPbvginjUKG"
      }
    },
    {
      "cell_type": "code",
      "source": [
        "class Node:\n",
        "  def __init__(self, data):\n",
        "    self.data = data\n",
        "    self.next = None\n",
        "\n",
        "class LinkedList:\n",
        "  def __init__(self):\n",
        "    self.head = None\n",
        "\n",
        "  def print(self):\n",
        "    pointer = self.head\n",
        "    while pointer != None:\n",
        "      print(pointer.data, end=' ')\n",
        "      pointer = pointer.next\n",
        "\n",
        "  def count(self):\n",
        "    pointer = self.head\n",
        "    what = ''\n",
        "    while 1:\n",
        "      if pointer == None:\n",
        "        what = what + 'even'\n",
        "        break\n",
        "      if pointer.next == None:\n",
        "        what = what + 'odd'\n",
        "        break\n",
        "\n",
        "      pointer = pointer.next.next\n",
        "    return what\n",
        "\n",
        "l = LinkedList()\n",
        "l.head = Node(1)\n",
        "l.head.next = Node(1)\n",
        "l.head.next.next = Node(5)\n",
        "l.head.next.next.next = Node(7)\n",
        "l.head.next.next.next.next = Node(7)\n",
        "\n",
        "l.print()\n",
        "print('\\n')\n",
        "\n",
        "state = l.count()\n",
        "print(state)\n",
        "print('\\n')\n"
      ],
      "metadata": {
        "colab": {
          "base_uri": "https://localhost:8080/"
        },
        "id": "cLKJ2lyskbNx",
        "outputId": "53af13c1-482e-49cd-a0f5-2726ea189fa2"
      },
      "execution_count": null,
      "outputs": [
        {
          "output_type": "stream",
          "name": "stdout",
          "text": [
            "1 1 5 7 7 \n",
            "\n",
            "odd\n",
            "\n",
            "\n"
          ]
        }
      ]
    },
    {
      "cell_type": "markdown",
      "source": [
        "# Binary Tree\n",
        "\n",
        "## Binary Search Tree"
      ],
      "metadata": {
        "id": "__C0lHQY8ygu"
      }
    },
    {
      "cell_type": "code",
      "source": [
        "class Node:\n",
        "  def __init__(self, data):\n",
        "    self.data = data\n",
        "    self.left = None\n",
        "    self.right = None\n",
        "\n",
        "class BinarySearchTree:\n",
        "  def __init__(self):\n",
        "    self.root = None\n",
        "\n",
        "  # Function to insert a key in the BST\n",
        "  def insert_new(self, data):\n",
        "    new_node = Node(data)\n",
        "    if self.root is None:\n",
        "      self.root = new_node\n",
        "    else:\n",
        "      pointer = self.root\n",
        "      while 1:\n",
        "        if data < pointer.data:\n",
        "            if pointer.left is None:\n",
        "              pointer.left = new_node\n",
        "              break\n",
        "            else:\n",
        "              pointer = pointer.left\n",
        "        else:\n",
        "          if pointer.right is None:\n",
        "            pointer.right = new_node\n",
        "            break\n",
        "          else:\n",
        "            pointer = pointer.right\n",
        "\n",
        "\n",
        "def inorder_traversal(root):\n",
        "  traversal = []\n",
        "  pointer = root\n",
        "  stack = []\n",
        "  while 1:\n",
        "    while pointer:\n",
        "      stack.append(pointer)\n",
        "      pointer = pointer.left\n",
        "    if len(stack) == 0:\n",
        "      break\n",
        "    pointer = stack.pop(-1)\n",
        "    traversal.append(pointer.data)\n",
        "    pointer = pointer.right\n",
        "  return traversal\n",
        "\n",
        "\n",
        "\n",
        "tree = BinarySearchTree()\n",
        "nodes = [6,8,7,9,4,3,5]\n",
        "for i in nodes:\n",
        "  tree.insert_new(i)\n",
        "\n",
        "print(tree.root.data)\n",
        "print('\\n')\n",
        "\n",
        "traversal = inorder_traversal(tree.root)\n",
        "print(traversal)\n"
      ],
      "metadata": {
        "colab": {
          "base_uri": "https://localhost:8080/"
        },
        "id": "RRIxBdvT82Yh",
        "outputId": "32d71453-3b2a-42c8-c8b3-c7a52280ac27"
      },
      "execution_count": null,
      "outputs": [
        {
          "output_type": "stream",
          "name": "stdout",
          "text": [
            "6\n",
            "\n",
            "\n",
            "[3, 4, 5, 6, 7, 8, 9]\n"
          ]
        }
      ]
    },
    {
      "cell_type": "markdown",
      "source": [
        "## Inorder, preorder & postorder Traversal\n",
        "\n",
        "<img src = \"https://lh7-us.googleusercontent.com/s9T6ZeBLi8pPD_N4rX3CUbLoSOMx0jj3w_2jRZI5GHOklXXx-mKinmwTDuUKR6pPJE1wzSkDOZAOuqOndWwQL6AEbjsmUDL4R8hJUvFFxFrvhxNo-91aDlmGnG3ocb6I7E_hzHG5HXKHm88v3cI9-qQ\">\n",
        "\n",
        "<img src=\"https://docs.google.com/drawings/d/sqEByxyphGWfYLUOG2B6l7w/image?parent=e/2PACX-1vRWOM8ickoJYMvaryw_bUbnR0BKYYeO_OdrL1gMFoFwGvbGqdQo-jwxgwoSlcGcpqDhsibtjg_TTzyJ&rev=62&drawingRevisionAccessToken=IFNw7w0t05HMTg&h=577&w=484&ac=1\">"
      ],
      "metadata": {
        "id": "FzqAdloDb_fH"
      }
    },
    {
      "cell_type": "code",
      "source": [
        "class Node:\n",
        "  def __init__(self, data):\n",
        "    self.data = data\n",
        "    self.left = None\n",
        "    self.right = None\n",
        "\n",
        "class Tree:\n",
        "  def __init__(self):\n",
        "    self.root = None\n",
        "\n",
        "  def insert(self, data):\n",
        "    new_node = Node(data)\n",
        "    if self.root == None:\n",
        "      self.root = new_node\n",
        "    else:\n",
        "      pointer = self.root\n",
        "      while 1:\n",
        "        if data < pointer.data:\n",
        "          if pointer.left == None:\n",
        "            pointer.left = new_node\n",
        "            break\n",
        "          else:\n",
        "            pointer = pointer.left\n",
        "        else:\n",
        "          if pointer.right == None:\n",
        "            pointer.right = new_node\n",
        "            break\n",
        "          else:\n",
        "            pointer = pointer.right\n",
        "\n",
        "\n",
        "  def inorder_traversal(self, root):\n",
        "    traversal = []\n",
        "    stack = []\n",
        "    pointer = self.root\n",
        "    while 1:\n",
        "      while pointer != None:\n",
        "        stack.append(pointer)\n",
        "        pointer = pointer.left\n",
        "      if len(stack) == 0:\n",
        "        break\n",
        "      pointer = stack.pop(-1)\n",
        "      traversal.append(pointer.data)\n",
        "      pointer = pointer.right\n",
        "    return traversal\n",
        "\n",
        "\n",
        "  def preorder_traversal(self, root):\n",
        "    traversal = []\n",
        "    stack = []\n",
        "    if self.root == None:\n",
        "      return\n",
        "    else:\n",
        "      pointer = self.root\n",
        "      stack.append(pointer)\n",
        "      while (len(stack) != 0):\n",
        "        pointer = stack.pop()\n",
        "        traversal.append(pointer.data)\n",
        "        if pointer.right != None:\n",
        "          stack.append(pointer.right)\n",
        "        if pointer.left != None:\n",
        "          stack.append(pointer.left)\n",
        "    return traversal\n",
        "\n",
        "\n",
        "  def postorder_traversal(self, root):\n",
        "    traversal = []\n",
        "    pointer = self.root\n",
        "    stack1 = [pointer]\n",
        "    stack2 = []\n",
        "    while len(stack1) != 0:\n",
        "      pointer = stack1.pop(-1)\n",
        "      stack2.append(pointer.data)\n",
        "      if pointer.left != None:\n",
        "        stack1.append(pointer.left)\n",
        "      if pointer.right != None:\n",
        "        stack1.append(pointer.right)\n",
        "    while len(stack2) != 0:\n",
        "      alpha = stack2.pop(-1)\n",
        "      traversal.append(alpha)\n",
        "    return traversal\n",
        "\n",
        "tree = Tree()\n",
        "nodes = [6,8,7,9,4,3,5]\n",
        "for i in nodes:\n",
        "  tree.insert(i)\n",
        "\n",
        "print(\"Root of the node\")\n",
        "print(tree.root.data)\n",
        "print('\\n')\n",
        "\n",
        "inorder_traversal = tree.inorder_traversal(tree.root)\n",
        "print(\"Inorder Traversal\")\n",
        "print(inorder_traversal)\n",
        "print('\\n')\n",
        "\n",
        "preorder_traversal = tree.preorder_traversal(tree.root)\n",
        "print(\"Pre-order Traversal\")\n",
        "print(preorder_traversal)\n",
        "print('\\n')\n",
        "\n",
        "postorder_traversal = tree.postorder_traversal(tree.root)\n",
        "print(\"Post-order Traversal\")\n",
        "print(postorder_traversal)\n",
        "print('\\n')\n"
      ],
      "metadata": {
        "colab": {
          "base_uri": "https://localhost:8080/"
        },
        "id": "UwGPbuR_JOPl",
        "outputId": "faeb10ca-054f-459f-e511-f5816db2b434"
      },
      "execution_count": null,
      "outputs": [
        {
          "output_type": "stream",
          "name": "stdout",
          "text": [
            "Root of the node\n",
            "6\n",
            "\n",
            "\n",
            "Inorder Traversal\n",
            "[3, 4, 5, 6, 7, 8, 9]\n",
            "\n",
            "\n",
            "Pre-order Traversal\n",
            "[6, 4, 3, 5, 8, 7, 9]\n",
            "\n",
            "\n",
            "Post-order Traversal\n",
            "[3, 5, 4, 7, 9, 8, 6]\n",
            "\n",
            "\n"
          ]
        }
      ]
    },
    {
      "cell_type": "markdown",
      "source": [
        "## Inorder, Preorder, postorder traversal (recursive)"
      ],
      "metadata": {
        "id": "Kd-bEr89lBuP"
      }
    },
    {
      "cell_type": "code",
      "source": [
        "#6,3,4,5,7,8,9\n",
        "class Node:\n",
        "  def __init__(self, data):\n",
        "    self.data = data\n",
        "    self.left = None\n",
        "    self.right = None\n",
        "\n",
        "class Tree:\n",
        "  def __init__(self):\n",
        "    self.root = None\n",
        "\n",
        "  def insert(self, data):\n",
        "    new_node = Node(data)\n",
        "    if self.root == None:\n",
        "      self.root = new_node\n",
        "      print(self.root.data, end = \" \")\n",
        "    else:\n",
        "      pointer = self.root\n",
        "      while 1:\n",
        "        if data < pointer.data:\n",
        "          if pointer.left == None:\n",
        "            pointer.left = new_node\n",
        "            print(pointer.left.data, end = \" \")\n",
        "            break\n",
        "          else:\n",
        "            pointer = pointer.left\n",
        "        else:\n",
        "          if pointer.right == None:\n",
        "            pointer.right = new_node\n",
        "            print(pointer.right.data, end = \" \")\n",
        "            break\n",
        "          else:\n",
        "            pointer = pointer.right\n",
        "\n",
        "traversal_1 = []\n",
        "def inorder_traversal(root):\n",
        "  if root == None:\n",
        "    return\n",
        "  if root.left != None:\n",
        "    inorder_traversal(root.left)\n",
        "  global traversal_1\n",
        "  traversal_1.append(root.data)\n",
        "  if root.right != None:\n",
        "    inorder_traversal(root.right)\n",
        "  return traversal_1\n",
        "\n",
        "\n",
        "traversal_2 = []\n",
        "def preorder_traversal(root):\n",
        "  if root == None:\n",
        "    return\n",
        "  traversal_2.append(root.data)\n",
        "  if root.left != None:\n",
        "    preorder_traversal(root.left)\n",
        "  if root.right != None:\n",
        "    preorder_traversal(root.right)\n",
        "  return traversal_2\n",
        "\n",
        "\n",
        "traversal_3 = []\n",
        "def postorder_traversal(root):\n",
        "  if root == None:\n",
        "    return\n",
        "  if root.left != None:\n",
        "    postorder_traversal(root.left)\n",
        "  if root.right != None:\n",
        "    postorder_traversal(root.right)\n",
        "  traversal_3.append(root.data)\n",
        "  return traversal_3\n",
        "\n",
        "\n",
        "traversal_4 = []\n",
        "def lineorder_traversal(root):\n",
        "  q = [root]\n",
        "  while len(q) != 0:\n",
        "    p = q.pop(0)\n",
        "    if p != None:\n",
        "      traversal_4.append(p.data)\n",
        "    if p.left != None:\n",
        "      q.append(p.left)\n",
        "    if p.right != None:\n",
        "      q.append(p.right)\n",
        "  return traversal_4\n",
        "\n",
        "\n",
        "\n",
        "\n",
        "\n",
        "\n",
        "tree = Tree()\n",
        "nodes = [6,8,7,9,4,3,5]\n",
        "for i in nodes:\n",
        "  tree.insert(i)\n",
        "\n",
        "\n",
        "inorder_traversal = inorder_traversal(tree.root)\n",
        "print('\\n')\n",
        "print(\"Inorder Traversal\", end=\" \")\n",
        "print(inorder_traversal)\n",
        "print('\\n')\n",
        "\n",
        "preorder_traversal = preorder_traversal(tree.root)\n",
        "print(\"Preorder Traversal\", end=\" \")\n",
        "print(preorder_traversal)\n",
        "print('\\n')\n",
        "\n",
        "postorder_traversal = postorder_traversal(tree.root)\n",
        "print(\"Postorder Traversal\", end=\" \")\n",
        "print(postorder_traversal)\n",
        "print('\\n')\n",
        "\n",
        "lineorder_traversal = lineorder_traversal(tree.root)\n",
        "print(\"Lineorder Traversal\", end=\" \")\n",
        "print(lineorder_traversal)\n",
        "print('\\n')"
      ],
      "metadata": {
        "colab": {
          "base_uri": "https://localhost:8080/"
        },
        "id": "WoC8W5_JlR4_",
        "outputId": "5d644ff3-e467-4538-cc63-c7600c13952f"
      },
      "execution_count": null,
      "outputs": [
        {
          "output_type": "stream",
          "name": "stdout",
          "text": [
            "6 8 7 9 4 3 5 \n",
            "\n",
            "Inorder Traversal [3, 4, 5, 6, 7, 8, 9]\n",
            "\n",
            "\n",
            "Preorder Traversal [6, 4, 3, 5, 8, 7, 9]\n",
            "\n",
            "\n",
            "Postorder Traversal [3, 5, 4, 7, 9, 8, 6]\n",
            "\n",
            "\n",
            "Lineorder Traversal [6, 4, 8, 3, 5, 7, 9]\n",
            "\n",
            "\n"
          ]
        }
      ]
    },
    {
      "cell_type": "code",
      "source": [
        "!git clone https://github.com/TejasJay/DSA_problems.git\n"
      ],
      "metadata": {
        "colab": {
          "base_uri": "https://localhost:8080/"
        },
        "id": "nLId9CSwM39j",
        "outputId": "8a113c01-cddb-47bb-a0c2-4a04d6cf7090"
      },
      "execution_count": 1,
      "outputs": [
        {
          "output_type": "stream",
          "name": "stdout",
          "text": [
            "Cloning into 'DSA_problems'...\n",
            "fatal: could not read Username for 'https://github.com': No such device or address\n"
          ]
        }
      ]
    },
    {
      "cell_type": "code",
      "source": [],
      "metadata": {
        "id": "Onr4u_v4NWQx"
      },
      "execution_count": null,
      "outputs": []
    }
  ]
}